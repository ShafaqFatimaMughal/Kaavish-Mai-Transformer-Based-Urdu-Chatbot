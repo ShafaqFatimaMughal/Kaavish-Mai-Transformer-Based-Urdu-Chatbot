{
  "nbformat": 4,
  "nbformat_minor": 0,
  "metadata": {
    "colab": {
      "provenance": [],
      "toc_visible": true
    },
    "kernelspec": {
      "name": "python3",
      "display_name": "Python 3"
    },
    "language_info": {
      "name": "python"
    }
  },
  "cells": [
    {
      "cell_type": "markdown",
      "source": [
        "# Importing Libraries"
      ],
      "metadata": {
        "id": "zj8a074UUxGz"
      }
    },
    {
      "cell_type": "code",
      "source": [
        "#Imports\n",
        "import os\n",
        "import pandas as pd\n",
        "import numpy as np\n",
        "import os\n",
        "from google.colab import files"
      ],
      "metadata": {
        "id": "0_lvb3QQ_488"
      },
      "execution_count": 1,
      "outputs": []
    },
    {
      "cell_type": "markdown",
      "source": [
        "# Cloning GitHub Repository"
      ],
      "metadata": {
        "id": "xG802ylYU1wV"
      }
    },
    {
      "cell_type": "code",
      "source": [
        "!git clone https://github.com/ShafaqFatimaMughal/Kaavish-Mai-Transformer-Based-Urdu-Chatbot.git\n",
        "path = \"/content/Kaavish-Mai-Transformer-Based-Urdu-Chatbot/Datasets/Initial\""
      ],
      "metadata": {
        "colab": {
          "base_uri": "https://localhost:8080/"
        },
        "id": "q2znTYim9t_c",
        "outputId": "ae914ea7-991a-49a2-acaf-7bab1cae029f"
      },
      "execution_count": 2,
      "outputs": [
        {
          "output_type": "stream",
          "name": "stdout",
          "text": [
            "Cloning into 'Kaavish-Mai-Transformer-Based-Urdu-Chatbot'...\n",
            "remote: Enumerating objects: 56, done.\u001b[K\n",
            "remote: Counting objects: 100% (56/56), done.\u001b[K\n",
            "remote: Compressing objects: 100% (47/47), done.\u001b[K\n",
            "remote: Total 56 (delta 20), reused 39 (delta 6), pack-reused 0\u001b[K\n",
            "Unpacking objects: 100% (56/56), done.\n"
          ]
        }
      ]
    },
    {
      "cell_type": "markdown",
      "source": [
        "# Extracting Data"
      ],
      "metadata": {
        "id": "UOp2B7kJVjdn"
      }
    },
    {
      "cell_type": "code",
      "execution_count": 3,
      "metadata": {
        "colab": {
          "base_uri": "https://localhost:8080/"
        },
        "id": "HutE8OwJ7vdn",
        "outputId": "be76d203-d7f8-40be-e0a2-7c2ead10fa81"
      },
      "outputs": [
        {
          "output_type": "stream",
          "name": "stdout",
          "text": [
            "/content/Kaavish-Mai-Transformer-Based-Urdu-Chatbot/Datasets/Initial/Self-Curated/Kaavish D5 - Hello Clue.csv\n",
            "/content/Kaavish-Mai-Transformer-Based-Urdu-Chatbot/Datasets/Initial/Self-Curated/Kaavish D0 - General Mai.csv\n",
            "/content/Kaavish-Mai-Transformer-Based-Urdu-Chatbot/Datasets/Initial/Self-Curated/Kaavish D2 - Mestrual Hygeine.csv\n",
            "/content/Kaavish-Mai-Transformer-Based-Urdu-Chatbot/Datasets/Initial/Self-Curated/Kaavish D6 - Flo.csv\n",
            "/content/Kaavish-Mai-Transformer-Based-Urdu-Chatbot/Datasets/Initial/Self-Curated/Kaavish D3 - Sexually Transmitted Infections.csv\n",
            "/content/Kaavish-Mai-Transformer-Based-Urdu-Chatbot/Datasets/Initial/Self-Curated/Kaavish D4 - New Periods Curriculum.csv\n",
            "/content/Kaavish-Mai-Transformer-Based-Urdu-Chatbot/Datasets/Initial/Self-Curated/Kaavish D1 - Fertility Dost Chatbox_2.csv\n"
          ]
        },
        {
          "output_type": "execute_result",
          "data": {
            "text/plain": [
              "<bound method DataFrame.info of                                                Intent  \\\n",
              "0                                              Hello    \n",
              "1   I had some questions about my periods, will yo...   \n",
              "2                  I wanted to know what an ovary is?   \n",
              "3              I was wondering what uterus looks like   \n",
              "4                  What happens in a menstrual cycle    \n",
              "..                                                ...   \n",
              "28                                      What is Yoga?   \n",
              "29                                  What is Ayurveda?   \n",
              "30                    What disturbs Female Fertility?   \n",
              "31  I haven’t yet visited the doctor to test my fe...   \n",
              "32                                                NaN   \n",
              "\n",
              "                                             Response  Relevance  \n",
              "0    Hello! My name is Mai, how can I help you today?        NaN  \n",
              "1   Sure, in fact you have reached the right perso...        NaN  \n",
              "2   The ovaries are small, oval-shaped glands loca...        1.0  \n",
              "3   The uterus is a hollow muscular organ located ...        1.0  \n",
              "4   A menstrual cycle starts on the first day of t...        1.0  \n",
              "..                                                ...        ...  \n",
              "28  There are certain yoga techniques that have be...        0.5  \n",
              "29  Ayurvedic medicines and ayurvedic treatments a...        0.5  \n",
              "30  There are many conditions that could disturb a...        0.5  \n",
              "31  Is your menstrual cycle irregular?\\nDo you con...        0.5  \n",
              "32              Are you having sex at the right time?        NaN  \n",
              "\n",
              "[369 rows x 3 columns]>"
            ]
          },
          "metadata": {},
          "execution_count": 3
        }
      ],
      "source": [
        "self_path = path + \"/Self-Curated\"\n",
        "data = {}\n",
        "\n",
        "for root, dirs, filess in os.walk(self_path): # We need the files in this path / diretory\n",
        "\n",
        "    for index, name in enumerate(filess): \n",
        "        naming_index = name.split(\"/\")[-1].split(\" \")[1] # We want just the filename\n",
        "        filename = os.path.join(root, name)\n",
        "        df = pd.read_csv(filename, usecols = ['Intent', 'Response', 'Relevance'])\n",
        "        df = df[df['Relevance'] != 0]\n",
        "        data[naming_index] = df # Save df in dict\n",
        "        print(filename) \n",
        "\n",
        "dataset = pd.DataFrame(columns=['Intent', 'Response', \"Relevance\"])\n",
        "\n",
        "# Concatenating dataset together\n",
        "for i in data.keys(): \n",
        "  dataset = dataset.append(data[i])\n",
        "dataset.info"
      ]
    },
    {
      "cell_type": "markdown",
      "source": [
        "# Cleaning Data"
      ],
      "metadata": {
        "id": "VSJMycFkVcnI"
      }
    },
    {
      "cell_type": "code",
      "source": [
        "dataset.drop(columns=[\"Relevance\"], inplace=True)\n",
        "dataset.dropna(inplace=True)\n",
        "dataset.drop_duplicates(inplace=True)\n",
        "dataset.info"
      ],
      "metadata": {
        "colab": {
          "base_uri": "https://localhost:8080/"
        },
        "id": "-Ix9Nefw8EAM",
        "outputId": "4b62c026-d552-4b05-af8e-1c9666a8b5d6"
      },
      "execution_count": 4,
      "outputs": [
        {
          "output_type": "execute_result",
          "data": {
            "text/plain": [
              "<bound method DataFrame.info of                                                Intent  \\\n",
              "0                                              Hello    \n",
              "1   I had some questions about my periods, will yo...   \n",
              "2                  I wanted to know what an ovary is?   \n",
              "3              I was wondering what uterus looks like   \n",
              "4                  What happens in a menstrual cycle    \n",
              "..                                                ...   \n",
              "27                                What is Homeopathy?   \n",
              "28                                      What is Yoga?   \n",
              "29                                  What is Ayurveda?   \n",
              "30                    What disturbs Female Fertility?   \n",
              "31  I haven’t yet visited the doctor to test my fe...   \n",
              "\n",
              "                                             Response  \n",
              "0    Hello! My name is Mai, how can I help you today?  \n",
              "1   Sure, in fact you have reached the right perso...  \n",
              "2   The ovaries are small, oval-shaped glands loca...  \n",
              "3   The uterus is a hollow muscular organ located ...  \n",
              "4   A menstrual cycle starts on the first day of t...  \n",
              "..                                                ...  \n",
              "27  Some fertility issues can be treated by homeop...  \n",
              "28  There are certain yoga techniques that have be...  \n",
              "29  Ayurvedic medicines and ayurvedic treatments a...  \n",
              "30  There are many conditions that could disturb a...  \n",
              "31  Is your menstrual cycle irregular?\\nDo you con...  \n",
              "\n",
              "[364 rows x 2 columns]>"
            ]
          },
          "metadata": {},
          "execution_count": 4
        }
      ]
    },
    {
      "cell_type": "code",
      "source": [
        "# Reformatting dataframe data to new dataframe\n",
        "final_data = pd.DataFrame(columns=[\"Name\", \"Line\"])\n",
        "for i, row in dataset.iterrows():\n",
        "  user = row[\"Intent\"] \n",
        "  response = row[\"Response\"]\n",
        "  final_data = final_data.append({\"Name\": \"User\", \"Line\": user}, ignore_index=True) \n",
        "  final_data = final_data.append({\"Name\": \"Mai\", \"Line\": response}, ignore_index=True)"
      ],
      "metadata": {
        "id": "7Tx9pPTo8IYa"
      },
      "execution_count": 5,
      "outputs": []
    },
    {
      "cell_type": "code",
      "execution_count": 6,
      "metadata": {
        "id": "WyL7Dx1bbLRC"
      },
      "outputs": [],
      "source": [
        "contexted = []\n",
        "n = 7 # Context length \n",
        "\n",
        "for i in range(n, len(final_data['Line'])):\n",
        "  row = []\n",
        "  prev = i - 1 - n # We additionally substract 1, so row will contain current responce and 7 previous responces  \n",
        "  for j in range(i, prev, -1):\n",
        "    row.append(final_data['Line'][j])\n",
        "  contexted.append(row)  "
      ]
    },
    {
      "cell_type": "code",
      "execution_count": 7,
      "metadata": {
        "colab": {
          "base_uri": "https://localhost:8080/"
        },
        "id": "R_cwbBolVi14",
        "outputId": "97c2bcaf-8a22-4120-b675-c62ee472d81a"
      },
      "outputs": [
        {
          "output_type": "execute_result",
          "data": {
            "text/plain": [
              "721"
            ]
          },
          "metadata": {},
          "execution_count": 7
        }
      ],
      "source": [
        "len(contexted)"
      ]
    },
    {
      "cell_type": "code",
      "execution_count": 8,
      "metadata": {
        "colab": {
          "base_uri": "https://localhost:8080/"
        },
        "id": "gNkYLty-VhTO",
        "outputId": "990345ab-04b7-4241-eae0-8a9c5d7ac428"
      },
      "outputs": [
        {
          "output_type": "execute_result",
          "data": {
            "text/plain": [
              "['response',\n",
              " 'context',\n",
              " 'context/0',\n",
              " 'context/1',\n",
              " 'context/2',\n",
              " 'context/3',\n",
              " 'context/4',\n",
              " 'context/5']"
            ]
          },
          "metadata": {},
          "execution_count": 8
        }
      ],
      "source": [
        "# Making list of columns according to context len\n",
        "columns = ['response', 'context'] \n",
        "columns = columns + ['context/'+str(i) for i in range(n-1)]\n",
        "columns"
      ]
    },
    {
      "cell_type": "code",
      "execution_count": 9,
      "metadata": {
        "colab": {
          "base_uri": "https://localhost:8080/",
          "height": 424
        },
        "id": "kPafxqIYgurW",
        "outputId": "5c2bb5ba-1958-48f0-d9ac-a39c9171341c"
      },
      "outputs": [
        {
          "output_type": "execute_result",
          "data": {
            "text/plain": [
              "                                            response  \\\n",
              "0  The uterus is a hollow muscular organ located ...   \n",
              "1                 What happens in a menstrual cycle    \n",
              "2  A menstrual cycle starts on the first day of t...   \n",
              "3  I am not sure if I understood what a uterine c...   \n",
              "4  Before Ovulation, this cycle physically change...   \n",
              "\n",
              "                                             context  \\\n",
              "0             I was wondering what uterus looks like   \n",
              "1  The uterus is a hollow muscular organ located ...   \n",
              "2                 What happens in a menstrual cycle    \n",
              "3  A menstrual cycle starts on the first day of t...   \n",
              "4  I am not sure if I understood what a uterine c...   \n",
              "\n",
              "                                           context/0  \\\n",
              "0  The ovaries are small, oval-shaped glands loca...   \n",
              "1             I was wondering what uterus looks like   \n",
              "2  The uterus is a hollow muscular organ located ...   \n",
              "3                 What happens in a menstrual cycle    \n",
              "4  A menstrual cycle starts on the first day of t...   \n",
              "\n",
              "                                           context/1  \\\n",
              "0                 I wanted to know what an ovary is?   \n",
              "1  The ovaries are small, oval-shaped glands loca...   \n",
              "2             I was wondering what uterus looks like   \n",
              "3  The uterus is a hollow muscular organ located ...   \n",
              "4                 What happens in a menstrual cycle    \n",
              "\n",
              "                                           context/2  \\\n",
              "0  Sure, in fact you have reached the right perso...   \n",
              "1                 I wanted to know what an ovary is?   \n",
              "2  The ovaries are small, oval-shaped glands loca...   \n",
              "3             I was wondering what uterus looks like   \n",
              "4  The uterus is a hollow muscular organ located ...   \n",
              "\n",
              "                                           context/3  \\\n",
              "0  I had some questions about my periods, will yo...   \n",
              "1  Sure, in fact you have reached the right perso...   \n",
              "2                 I wanted to know what an ovary is?   \n",
              "3  The ovaries are small, oval-shaped glands loca...   \n",
              "4             I was wondering what uterus looks like   \n",
              "\n",
              "                                           context/4  \\\n",
              "0   Hello! My name is Mai, how can I help you today?   \n",
              "1  I had some questions about my periods, will yo...   \n",
              "2  Sure, in fact you have reached the right perso...   \n",
              "3                 I wanted to know what an ovary is?   \n",
              "4  The ovaries are small, oval-shaped glands loca...   \n",
              "\n",
              "                                           context/5  \n",
              "0                                             Hello   \n",
              "1   Hello! My name is Mai, how can I help you today?  \n",
              "2  I had some questions about my periods, will yo...  \n",
              "3  Sure, in fact you have reached the right perso...  \n",
              "4                 I wanted to know what an ovary is?  "
            ],
            "text/html": [
              "\n",
              "  <div id=\"df-a539c871-0276-4d9e-9fd2-0ae27b2bf3cc\">\n",
              "    <div class=\"colab-df-container\">\n",
              "      <div>\n",
              "<style scoped>\n",
              "    .dataframe tbody tr th:only-of-type {\n",
              "        vertical-align: middle;\n",
              "    }\n",
              "\n",
              "    .dataframe tbody tr th {\n",
              "        vertical-align: top;\n",
              "    }\n",
              "\n",
              "    .dataframe thead th {\n",
              "        text-align: right;\n",
              "    }\n",
              "</style>\n",
              "<table border=\"1\" class=\"dataframe\">\n",
              "  <thead>\n",
              "    <tr style=\"text-align: right;\">\n",
              "      <th></th>\n",
              "      <th>response</th>\n",
              "      <th>context</th>\n",
              "      <th>context/0</th>\n",
              "      <th>context/1</th>\n",
              "      <th>context/2</th>\n",
              "      <th>context/3</th>\n",
              "      <th>context/4</th>\n",
              "      <th>context/5</th>\n",
              "    </tr>\n",
              "  </thead>\n",
              "  <tbody>\n",
              "    <tr>\n",
              "      <th>0</th>\n",
              "      <td>The uterus is a hollow muscular organ located ...</td>\n",
              "      <td>I was wondering what uterus looks like</td>\n",
              "      <td>The ovaries are small, oval-shaped glands loca...</td>\n",
              "      <td>I wanted to know what an ovary is?</td>\n",
              "      <td>Sure, in fact you have reached the right perso...</td>\n",
              "      <td>I had some questions about my periods, will yo...</td>\n",
              "      <td>Hello! My name is Mai, how can I help you today?</td>\n",
              "      <td>Hello</td>\n",
              "    </tr>\n",
              "    <tr>\n",
              "      <th>1</th>\n",
              "      <td>What happens in a menstrual cycle</td>\n",
              "      <td>The uterus is a hollow muscular organ located ...</td>\n",
              "      <td>I was wondering what uterus looks like</td>\n",
              "      <td>The ovaries are small, oval-shaped glands loca...</td>\n",
              "      <td>I wanted to know what an ovary is?</td>\n",
              "      <td>Sure, in fact you have reached the right perso...</td>\n",
              "      <td>I had some questions about my periods, will yo...</td>\n",
              "      <td>Hello! My name is Mai, how can I help you today?</td>\n",
              "    </tr>\n",
              "    <tr>\n",
              "      <th>2</th>\n",
              "      <td>A menstrual cycle starts on the first day of t...</td>\n",
              "      <td>What happens in a menstrual cycle</td>\n",
              "      <td>The uterus is a hollow muscular organ located ...</td>\n",
              "      <td>I was wondering what uterus looks like</td>\n",
              "      <td>The ovaries are small, oval-shaped glands loca...</td>\n",
              "      <td>I wanted to know what an ovary is?</td>\n",
              "      <td>Sure, in fact you have reached the right perso...</td>\n",
              "      <td>I had some questions about my periods, will yo...</td>\n",
              "    </tr>\n",
              "    <tr>\n",
              "      <th>3</th>\n",
              "      <td>I am not sure if I understood what a uterine c...</td>\n",
              "      <td>A menstrual cycle starts on the first day of t...</td>\n",
              "      <td>What happens in a menstrual cycle</td>\n",
              "      <td>The uterus is a hollow muscular organ located ...</td>\n",
              "      <td>I was wondering what uterus looks like</td>\n",
              "      <td>The ovaries are small, oval-shaped glands loca...</td>\n",
              "      <td>I wanted to know what an ovary is?</td>\n",
              "      <td>Sure, in fact you have reached the right perso...</td>\n",
              "    </tr>\n",
              "    <tr>\n",
              "      <th>4</th>\n",
              "      <td>Before Ovulation, this cycle physically change...</td>\n",
              "      <td>I am not sure if I understood what a uterine c...</td>\n",
              "      <td>A menstrual cycle starts on the first day of t...</td>\n",
              "      <td>What happens in a menstrual cycle</td>\n",
              "      <td>The uterus is a hollow muscular organ located ...</td>\n",
              "      <td>I was wondering what uterus looks like</td>\n",
              "      <td>The ovaries are small, oval-shaped glands loca...</td>\n",
              "      <td>I wanted to know what an ovary is?</td>\n",
              "    </tr>\n",
              "  </tbody>\n",
              "</table>\n",
              "</div>\n",
              "      <button class=\"colab-df-convert\" onclick=\"convertToInteractive('df-a539c871-0276-4d9e-9fd2-0ae27b2bf3cc')\"\n",
              "              title=\"Convert this dataframe to an interactive table.\"\n",
              "              style=\"display:none;\">\n",
              "        \n",
              "  <svg xmlns=\"http://www.w3.org/2000/svg\" height=\"24px\"viewBox=\"0 0 24 24\"\n",
              "       width=\"24px\">\n",
              "    <path d=\"M0 0h24v24H0V0z\" fill=\"none\"/>\n",
              "    <path d=\"M18.56 5.44l.94 2.06.94-2.06 2.06-.94-2.06-.94-.94-2.06-.94 2.06-2.06.94zm-11 1L8.5 8.5l.94-2.06 2.06-.94-2.06-.94L8.5 2.5l-.94 2.06-2.06.94zm10 10l.94 2.06.94-2.06 2.06-.94-2.06-.94-.94-2.06-.94 2.06-2.06.94z\"/><path d=\"M17.41 7.96l-1.37-1.37c-.4-.4-.92-.59-1.43-.59-.52 0-1.04.2-1.43.59L10.3 9.45l-7.72 7.72c-.78.78-.78 2.05 0 2.83L4 21.41c.39.39.9.59 1.41.59.51 0 1.02-.2 1.41-.59l7.78-7.78 2.81-2.81c.8-.78.8-2.07 0-2.86zM5.41 20L4 18.59l7.72-7.72 1.47 1.35L5.41 20z\"/>\n",
              "  </svg>\n",
              "      </button>\n",
              "      \n",
              "  <style>\n",
              "    .colab-df-container {\n",
              "      display:flex;\n",
              "      flex-wrap:wrap;\n",
              "      gap: 12px;\n",
              "    }\n",
              "\n",
              "    .colab-df-convert {\n",
              "      background-color: #E8F0FE;\n",
              "      border: none;\n",
              "      border-radius: 50%;\n",
              "      cursor: pointer;\n",
              "      display: none;\n",
              "      fill: #1967D2;\n",
              "      height: 32px;\n",
              "      padding: 0 0 0 0;\n",
              "      width: 32px;\n",
              "    }\n",
              "\n",
              "    .colab-df-convert:hover {\n",
              "      background-color: #E2EBFA;\n",
              "      box-shadow: 0px 1px 2px rgba(60, 64, 67, 0.3), 0px 1px 3px 1px rgba(60, 64, 67, 0.15);\n",
              "      fill: #174EA6;\n",
              "    }\n",
              "\n",
              "    [theme=dark] .colab-df-convert {\n",
              "      background-color: #3B4455;\n",
              "      fill: #D2E3FC;\n",
              "    }\n",
              "\n",
              "    [theme=dark] .colab-df-convert:hover {\n",
              "      background-color: #434B5C;\n",
              "      box-shadow: 0px 1px 3px 1px rgba(0, 0, 0, 0.15);\n",
              "      filter: drop-shadow(0px 1px 2px rgba(0, 0, 0, 0.3));\n",
              "      fill: #FFFFFF;\n",
              "    }\n",
              "  </style>\n",
              "\n",
              "      <script>\n",
              "        const buttonEl =\n",
              "          document.querySelector('#df-a539c871-0276-4d9e-9fd2-0ae27b2bf3cc button.colab-df-convert');\n",
              "        buttonEl.style.display =\n",
              "          google.colab.kernel.accessAllowed ? 'block' : 'none';\n",
              "\n",
              "        async function convertToInteractive(key) {\n",
              "          const element = document.querySelector('#df-a539c871-0276-4d9e-9fd2-0ae27b2bf3cc');\n",
              "          const dataTable =\n",
              "            await google.colab.kernel.invokeFunction('convertToInteractive',\n",
              "                                                     [key], {});\n",
              "          if (!dataTable) return;\n",
              "\n",
              "          const docLinkHtml = 'Like what you see? Visit the ' +\n",
              "            '<a target=\"_blank\" href=https://colab.research.google.com/notebooks/data_table.ipynb>data table notebook</a>'\n",
              "            + ' to learn more about interactive tables.';\n",
              "          element.innerHTML = '';\n",
              "          dataTable['output_type'] = 'display_data';\n",
              "          await google.colab.output.renderOutput(dataTable, element);\n",
              "          const docLink = document.createElement('div');\n",
              "          docLink.innerHTML = docLinkHtml;\n",
              "          element.appendChild(docLink);\n",
              "        }\n",
              "      </script>\n",
              "    </div>\n",
              "  </div>\n",
              "  "
            ]
          },
          "metadata": {},
          "execution_count": 9
        }
      ],
      "source": [
        "df = pd.DataFrame.from_records(contexted, columns=columns) # Make dataframe\n",
        "df.head(5)"
      ]
    },
    {
      "cell_type": "markdown",
      "source": [
        "# Further Cleaning \n",
        "## Removing some identifiers and explicit text"
      ],
      "metadata": {
        "id": "JzYdQWmyVHDQ"
      }
    },
    {
      "cell_type": "code",
      "source": [
        "# !pip install clean-text\n",
        "# !pip install better-profanity\n",
        "# !pip install tqdm\n",
        "\n",
        "# # Imports\n",
        "# from cleantext import clean\n",
        "# from tqdm import tqdm"
      ],
      "metadata": {
        "id": "JWtyai4VBUWL"
      },
      "execution_count": 10,
      "outputs": []
    },
    {
      "cell_type": "code",
      "source": [
        "# # Getting columns for the new data frame\n",
        "# columns = df.columns\n",
        "# new_df = pd.DataFrame(columns=columns)\n",
        "# # Iterating over dataframe\n",
        "# for index, row in tqdm(df.iterrows()):\n",
        "#   # Creating new data to append to new dataframe\n",
        "#   row_data = {}\n",
        "#   # Iterating over all columns of a row and cleaning the data to add to the dict\n",
        "#   for col in columns:\n",
        "#     row_data[col] = clean(row[col], no_emoji=True, lower=True, no_punct = True)\n",
        "#   # Appending the data to the new dataframe\n",
        "#   new_df = new_df.append(row_data, ignore_index=True)\n",
        "\n",
        "# new_df.to_csv('self_curated.csv', index=False)\n",
        "# files.download('self_curated.csv')\n",
        "# print(new_df.info())\n",
        "\n",
        "# new_df"
      ],
      "metadata": {
        "id": "JQDyv941A-yZ"
      },
      "execution_count": 11,
      "outputs": []
    },
    {
      "cell_type": "markdown",
      "source": [
        "# Saving and Downloading"
      ],
      "metadata": {
        "id": "2gdnemWNVTlD"
      }
    },
    {
      "cell_type": "code",
      "source": [
        "df.to_csv('self_curated.csv', index=False)\n",
        "files.download('self_curated.csv')"
      ],
      "metadata": {
        "colab": {
          "base_uri": "https://localhost:8080/",
          "height": 17
        },
        "id": "zi1bZVx6TbN9",
        "outputId": "b24253c6-f548-4662-ff0e-5e7faf4eeacb"
      },
      "execution_count": 12,
      "outputs": [
        {
          "output_type": "display_data",
          "data": {
            "text/plain": [
              "<IPython.core.display.Javascript object>"
            ],
            "application/javascript": [
              "\n",
              "    async function download(id, filename, size) {\n",
              "      if (!google.colab.kernel.accessAllowed) {\n",
              "        return;\n",
              "      }\n",
              "      const div = document.createElement('div');\n",
              "      const label = document.createElement('label');\n",
              "      label.textContent = `Downloading \"${filename}\": `;\n",
              "      div.appendChild(label);\n",
              "      const progress = document.createElement('progress');\n",
              "      progress.max = size;\n",
              "      div.appendChild(progress);\n",
              "      document.body.appendChild(div);\n",
              "\n",
              "      const buffers = [];\n",
              "      let downloaded = 0;\n",
              "\n",
              "      const channel = await google.colab.kernel.comms.open(id);\n",
              "      // Send a message to notify the kernel that we're ready.\n",
              "      channel.send({})\n",
              "\n",
              "      for await (const message of channel.messages) {\n",
              "        // Send a message to notify the kernel that we're ready.\n",
              "        channel.send({})\n",
              "        if (message.buffers) {\n",
              "          for (const buffer of message.buffers) {\n",
              "            buffers.push(buffer);\n",
              "            downloaded += buffer.byteLength;\n",
              "            progress.value = downloaded;\n",
              "          }\n",
              "        }\n",
              "      }\n",
              "      const blob = new Blob(buffers, {type: 'application/binary'});\n",
              "      const a = document.createElement('a');\n",
              "      a.href = window.URL.createObjectURL(blob);\n",
              "      a.download = filename;\n",
              "      div.appendChild(a);\n",
              "      a.click();\n",
              "      div.remove();\n",
              "    }\n",
              "  "
            ]
          },
          "metadata": {}
        },
        {
          "output_type": "display_data",
          "data": {
            "text/plain": [
              "<IPython.core.display.Javascript object>"
            ],
            "application/javascript": [
              "download(\"download_0c16d411-737e-499e-9968-b36aecabb095\", \"self_curated.csv\", 1308807)"
            ]
          },
          "metadata": {}
        }
      ]
    }
  ]
}